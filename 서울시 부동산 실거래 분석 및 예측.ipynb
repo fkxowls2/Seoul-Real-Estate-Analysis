{
 "cells": [
  {
   "cell_type": "markdown",
   "id": "da409461",
   "metadata": {},
   "source": [
    "# 데이터 로드"
   ]
  },
  {
   "cell_type": "code",
   "execution_count": 94,
   "id": "b1207621",
   "metadata": {
    "scrolled": true
   },
   "outputs": [
    {
     "name": "stderr",
     "output_type": "stream",
     "text": [
      "D:\\anaconda\\lib\\site-packages\\IPython\\core\\interactiveshell.py:3165: DtypeWarning: Columns (1) have mixed types.Specify dtype option on import or set low_memory=False.\n",
      "  has_raised = await self.run_ast_nodes(code_ast.body, cell_name,\n"
     ]
    }
   ],
   "source": [
    "#2006년~2020년 서울시 부동산 실거래 데이터\n",
    "import pandas as pd\n",
    "p2006 = pd.read_csv(\"d:\\\\data\\\\서울특별시_부동산_실거래가_정보_2006년.csv\", encoding='euckr')\n",
    "p2007 = pd.read_csv(\"d:\\\\data\\\\서울특별시_부동산_실거래가_정보_2007년.csv\", encoding='euckr')\n",
    "p2008 = pd.read_csv(\"d:\\\\data\\\\서울특별시_부동산_실거래가_정보_2008년.csv\", encoding='euckr')\n",
    "p2009 = pd.read_csv(\"d:\\\\data\\\\서울특별시_부동산_실거래가_정보_2009년.csv\", encoding='euckr')\n",
    "p2010 = pd.read_csv(\"d:\\\\data\\\\서울특별시_부동산_실거래가_정보_2010년.csv\", encoding='euckr')\n",
    "p2011 = pd.read_csv(\"d:\\\\data\\\\서울특별시_부동산_실거래가_정보_2011년.csv\", encoding='euckr')\n",
    "p2012 = pd.read_csv(\"d:\\\\data\\\\서울특별시_부동산_실거래가_정보_2012년.csv\", encoding='euckr')\n",
    "p2013 = pd.read_csv(\"d:\\\\data\\\\서울특별시_부동산_실거래가_정보_2013년.csv\", encoding='euckr')\n",
    "p2014 = pd.read_csv(\"d:\\\\data\\\\서울특별시_부동산_실거래가_정보_2014년.csv\", encoding='euckr')\n",
    "p2015 = pd.read_csv(\"d:\\\\data\\\\서울특별시_부동산_실거래가_정보_2015년.csv\", encoding='euckr')\n",
    "p2016 = pd.read_csv(\"d:\\\\data\\\\서울특별시_부동산_실거래가_정보_2016년.csv\", encoding='euckr')\n",
    "p2017 = pd.read_csv(\"d:\\\\data\\\\서울특별시_부동산_실거래가_정보_2017년.csv\", encoding='euckr')\n",
    "p2018 = pd.read_csv(\"d:\\\\data\\\\서울특별시_부동산_실거래가_정보_2018년.csv\", encoding='euckr')\n",
    "p2019 = pd.read_csv(\"d:\\\\data\\\\서울특별시_부동산_실거래가_정보_2019년.csv\", encoding='euckr')\n",
    "p2020 = pd.read_csv(\"d:\\\\data\\\\서울특별시_부동산_실거래가_정보_2020년.csv\", encoding='euckr')"
   ]
  },
  {
   "cell_type": "markdown",
   "id": "27009869",
   "metadata": {},
   "source": [
    "# 데이터 확인"
   ]
  },
  {
   "cell_type": "markdown",
   "id": "fd76c032",
   "metadata": {},
   "source": [
    "### 데이터 통합 및 확인"
   ]
  },
  {
   "cell_type": "code",
   "execution_count": 95,
   "id": "478cf5cb",
   "metadata": {
    "scrolled": false
   },
   "outputs": [
    {
     "name": "stdout",
     "output_type": "stream",
     "text": [
      "<class 'pandas.core.frame.DataFrame'>\n",
      "Int64Index: 2261710 entries, 0 to 176000\n",
      "Data columns (total 19 columns):\n",
      " #   Column   Dtype  \n",
      "---  ------   -----  \n",
      " 0   실거래가아이디  object \n",
      " 1   지번코드     object \n",
      " 2   시군구코드    int64  \n",
      " 3   자치구명     object \n",
      " 4   법정동코드    int64  \n",
      " 5   법정동명     object \n",
      " 6   신고년도     int64  \n",
      " 7   업무구분코드   int64  \n",
      " 8   업무구분     object \n",
      " 9   물건번호     int64  \n",
      " 10  대지권면적    float64\n",
      " 11  건물면적     float64\n",
      " 12  관리구분코드   object \n",
      " 13  층정보      float64\n",
      " 14  건물주용도코드  int64  \n",
      " 15  건물주용도    object \n",
      " 16  물건금액     int64  \n",
      " 17  건축년도     float64\n",
      " 18  건물명      object \n",
      "dtypes: float64(4), int64(7), object(8)\n",
      "memory usage: 345.1+ MB\n"
     ]
    }
   ],
   "source": [
    "temp = pd.concat([p2006,p2007,p2008,p2009,p2010,p2011,p2012,p2013,p2014,p2015,p2016,p2017,p2018,p2019,p2020], axis=0)\n",
    "temp.info()"
   ]
  },
  {
   "cell_type": "markdown",
   "id": "51198e4f",
   "metadata": {},
   "source": [
    "### 결측치 확인"
   ]
  },
  {
   "cell_type": "code",
   "execution_count": 96,
   "id": "88d2b75b",
   "metadata": {
    "scrolled": false
   },
   "outputs": [
    {
     "data": {
      "text/plain": [
       "실거래가아이디          0\n",
       "지번코드             0\n",
       "시군구코드            0\n",
       "자치구명             0\n",
       "법정동코드            0\n",
       "법정동명             0\n",
       "신고년도             0\n",
       "업무구분코드           0\n",
       "업무구분             0\n",
       "물건번호             0\n",
       "대지권면적      1112286\n",
       "건물면적             0\n",
       "관리구분코드           4\n",
       "층정보         191492\n",
       "건물주용도코드          0\n",
       "건물주용도            0\n",
       "물건금액             0\n",
       "건축년도          5729\n",
       "건물명         191492\n",
       "dtype: int64"
      ]
     },
     "execution_count": 96,
     "metadata": {},
     "output_type": "execute_result"
    }
   ],
   "source": [
    "temp.isna().sum()"
   ]
  },
  {
   "cell_type": "code",
   "execution_count": 97,
   "id": "e242d003",
   "metadata": {
    "scrolled": false
   },
   "outputs": [
    {
     "name": "stdout",
     "output_type": "stream",
     "text": [
      "['단독주택']['단독주택']['단독주택']['단독주택']['단독주택']['단독주택']['단독주택']['단독주택']['단독주택']['단독주택']['단독주택']['단독주택']['단독주택']['단독주택']['단독주택']"
     ]
    }
   ],
   "source": [
    "data = [p2006, p2007, p2008, p2009, p2010, p2011, p2012, p2013, p2014, p2015, p2016, p2017, p2018, p2019, p2020]\n",
    "for i in data:\n",
    "    print(i['건물주용도'][i['층정보'].isna()].unique(), end='')"
   ]
  },
  {
   "cell_type": "markdown",
   "id": "cbe42d57",
   "metadata": {},
   "source": [
    "# 데이터 전처리"
   ]
  },
  {
   "cell_type": "markdown",
   "id": "0c5971b7",
   "metadata": {},
   "source": [
    "### 분석만 데이터로 축약"
   ]
  },
  {
   "cell_type": "code",
   "execution_count": 98,
   "id": "f24952b4",
   "metadata": {
    "scrolled": false
   },
   "outputs": [
    {
     "name": "stdout",
     "output_type": "stream",
     "text": [
      "<class 'pandas.core.frame.DataFrame'>\n",
      "Int64Index: 2261710 entries, 0 to 176000\n",
      "Data columns (total 8 columns):\n",
      " #   Column  Dtype  \n",
      "---  ------  -----  \n",
      " 0   신고년도    int64  \n",
      " 1   자치구명    object \n",
      " 2   법정동명    object \n",
      " 3   건물면적    float64\n",
      " 4   층정보     float64\n",
      " 5   건물주용도   object \n",
      " 6   건축년도    float64\n",
      " 7   물건금액    int64  \n",
      "dtypes: float64(3), int64(2), object(3)\n",
      "memory usage: 155.3+ MB\n"
     ]
    }
   ],
   "source": [
    "price = temp[['신고년도','자치구명','법정동명','건물면적','층정보','건물주용도','건축년도','물건금액']]\n",
    "price.info()"
   ]
  },
  {
   "cell_type": "markdown",
   "id": "1ec6158a",
   "metadata": {},
   "source": [
    "### 결측치 처리"
   ]
  },
  {
   "cell_type": "code",
   "execution_count": 99,
   "id": "ad18e374",
   "metadata": {},
   "outputs": [
    {
     "name": "stderr",
     "output_type": "stream",
     "text": [
      "D:\\anaconda\\lib\\site-packages\\pandas\\core\\series.py:4463: SettingWithCopyWarning: \n",
      "A value is trying to be set on a copy of a slice from a DataFrame\n",
      "\n",
      "See the caveats in the documentation: https://pandas.pydata.org/pandas-docs/stable/user_guide/indexing.html#returning-a-view-versus-a-copy\n",
      "  return super().fillna(\n"
     ]
    },
    {
     "data": {
      "text/plain": [
       "신고년도     0\n",
       "자치구명     0\n",
       "법정동명     0\n",
       "건물면적     0\n",
       "층정보      0\n",
       "건물주용도    0\n",
       "건축년도     0\n",
       "물건금액     0\n",
       "dtype: int64"
      ]
     },
     "execution_count": 99,
     "metadata": {},
     "output_type": "execute_result"
    }
   ],
   "source": [
    "price['층정보'].fillna(1, inplace=True)\n",
    "price['건축년도'].fillna(0, inplace=True)\n",
    "price.isna().sum()"
   ]
  },
  {
   "cell_type": "markdown",
   "id": "479bba88",
   "metadata": {},
   "source": [
    "# 데이터 분석"
   ]
  },
  {
   "cell_type": "code",
   "execution_count": 100,
   "id": "d945bb45",
   "metadata": {},
   "outputs": [],
   "source": [
    "#그래프 기본 설정\n",
    "from matplotlib import font_manager, rc\n",
    "import matplotlib.pyplot as plt\n",
    "plt.style.use(['default'])\n",
    "font = font_manager.FontProperties(fname=\"c:/Windows/Fonts/malgun.ttf\").get_name()\n",
    "rc('font', family=font, size=12)\n",
    "plt.rcParams['axes.unicode_minus'] = False"
   ]
  },
  {
   "cell_type": "markdown",
   "id": "d04450a2",
   "metadata": {},
   "source": [
    "### 연도별 서울시 부동산 가격 변동 그래프"
   ]
  },
  {
   "cell_type": "code",
   "execution_count": 101,
   "id": "f83b0d2d",
   "metadata": {},
   "outputs": [
    {
     "data": {
      "image/png": "[encoded data removed]",
      "text/plain": [
       "<Figure size 1000x300 with 1 Axes>"
      ]
     },
     "metadata": {},
     "output_type": "display_data"
    }
   ],
   "source": [
    "year_price = price.groupby('신고년도')['물건금액'].mean().reset_index()\n",
    "year_price['평균금액(단위:천만원)'] = year_price['물건금액']/10000000\n",
    "year_price['전년대비 상승률(%)'] = year_price['평균금액(단위:천만원)'].pct_change()*100\n",
    "#그래프 그리기\n",
    "bar_width = 0.4\n",
    "plt.figure(figsize=(10,3))\n",
    "plt.bar(year_price['신고년도']-bar_width/2, year_price['평균금액(단위:천만원)'], bar_width)\n",
    "plt.bar(year_price['신고년도']+bar_width/2, year_price['전년대비 상승률(%)'], bar_width)\n",
    "plt.xticks(year_price['신고년도'])\n",
    "plt.grid()\n",
    "plt.legend(['평균금액(천만원)','상승률(%)'], loc='best')\n",
    "plt.title('연도별 서울시 부동산 평균금액 및 상승률')\n",
    "plt.ylim([-20, 80])\n",
    "plt.show()"
   ]
  },
  {
   "cell_type": "markdown",
   "id": "20bb9690",
   "metadata": {},
   "source": [
    "### 정권별 서울시 부동산 가격 변동 그래프"
   ]
  },
  {
   "cell_type": "markdown",
   "id": "65fad9c4",
   "metadata": {},
   "source": [
    "> ### 대통령 재임기간\n",
    "> * 16대 노무현 : 2003.02 ~ 2008.02\n",
    "> * 17대 이명박 : 2008.02 ~ 2013.02\n",
    "> * 18대 박근혜 : 2013.02 ~ 2017.03\n",
    "> * 19대 문재인 : 2017.05 ~"
   ]
  },
  {
   "cell_type": "code",
   "execution_count": 102,
   "id": "8c96b83a",
   "metadata": {
    "scrolled": true
   },
   "outputs": [
    {
     "data": {
      "image/png": "[encoded data removed]",
      "text/plain": [
       "<Figure size 1500x300 with 4 Axes>"
      ]
     },
     "metadata": {},
     "output_type": "display_data"
    }
   ],
   "source": [
    "#정권별 데이터 구분\n",
    "no = year_price[year_price['신고년도'].isin([2006,2007])]\n",
    "lee = year_price[year_price['신고년도'].isin([2008,2009,2010,2011,2012])]\n",
    "park = year_price[year_price['신고년도'].isin([2013,2014,2015,2016])]\n",
    "moon = year_price[year_price['신고년도'].isin([2017,2018,2019,2020])]\n",
    "\n",
    "#정권별 구분 그래프\n",
    "fig = plt.figure(figsize=(15,3))\n",
    "ax1 = fig.add_subplot(1,4,1)\n",
    "ax2 = fig.add_subplot(1,4,2)\n",
    "ax3 = fig.add_subplot(1,4,3)\n",
    "ax4 = fig.add_subplot(1,4,4)\n",
    "\n",
    "ax1.bar(no['신고년도']-bar_width/2, no['평균금액(단위:천만원)'], bar_width)\n",
    "ax1.bar(no['신고년도']+bar_width/2, no['전년대비 상승률(%)'], bar_width)\n",
    "ax1.set_xlabel('노무현 정부')\n",
    "ax1.set_xticks(no['신고년도'])\n",
    "\n",
    "ax2.bar(lee['신고년도']-bar_width/2, lee['평균금액(단위:천만원)'], bar_width)\n",
    "ax2.bar(lee['신고년도']+bar_width/2, lee['전년대비 상승률(%)'], bar_width)\n",
    "ax2.set_xlabel('이명박 정부')\n",
    "ax2.set_xticks(lee['신고년도'])\n",
    "\n",
    "ax3.bar(park['신고년도']-bar_width/2, park['평균금액(단위:천만원)'], bar_width)\n",
    "ax3.bar(park['신고년도']+bar_width/2, park['전년대비 상승률(%)'], bar_width)\n",
    "ax3.set_xlabel('박근혜 정부')\n",
    "\n",
    "ax4.bar(moon['신고년도']-bar_width/2, moon['평균금액(단위:천만원)'], bar_width)\n",
    "ax4.bar(moon['신고년도']+bar_width/2, moon['전년대비 상승률(%)'], bar_width)\n",
    "ax4.set_xlabel('문재인 정부')\n",
    "\n",
    "ax3.set_title('정권별 서울시 부동산 평균금액 및 상승률           \\n', fontsize=20)\n",
    "plt.legend(['평균금액(천만원)','상승률(%)'], loc='best', bbox_to_anchor=(1.0,0.3))\n",
    "plt.show()"
   ]
  },
  {
   "cell_type": "markdown",
   "id": "3cd61074",
   "metadata": {},
   "source": [
    "### 정권별 부동산 총 상승률 및 평균 상승률"
   ]
  },
  {
   "cell_type": "code",
   "execution_count": 103,
   "id": "f3ce6cb8",
   "metadata": {
    "scrolled": true
   },
   "outputs": [
    {
     "data": {
      "image/png": "[encoded data removed]",
      "text/plain": [
       "<Figure size 600x300 with 1 Axes>"
      ]
     },
     "metadata": {},
     "output_type": "display_data"
    }
   ],
   "source": [
    "import numpy as np\n",
    "gov_name = ['노무현 정부','이명박 정부','박근혜 정부','문재인 정부']\n",
    "gov_sumrate = [no['전년대비 상승률(%)'].sum(),\n",
    "        lee['전년대비 상승률(%)'].sum(), \n",
    "        park['전년대비 상승률(%)'].sum(),\n",
    "        moon['전년대비 상승률(%)'].sum()]\n",
    "gov_meanrate = [no['전년대비 상승률(%)'].mean(),\n",
    "        lee['전년대비 상승률(%)'].mean(), \n",
    "        park['전년대비 상승률(%)'].mean(),\n",
    "        moon['전년대비 상승률(%)'].mean()]\n",
    "temp_x = np.arange(len(gov_name))\n",
    "bar_width = 0.35\n",
    "\n",
    "colors = ['#ff9999', '#ffc000', '#8fd9b6', '#d395d0']\n",
    "fig, ax = plt.subplots(figsize=(6,3))\n",
    "rects1 = ax.bar(temp_x-bar_width/2, gov_sumrate, bar_width)\n",
    "rects2 = ax.bar(temp_x+ bar_width/2, gov_meanrate, bar_width)\n",
    "ax.set_ylim([-20, 60])\n",
    "ax.set_title('정권별 부동산 총 및 평균상승률')\n",
    "ax.legend(['총 상승률','연평균 상승률'], loc='lower right', prop={'size': 10})\n",
    "ax.set_xticks(temp_x)\n",
    "ax.set_xticklabels(gov_name)\n",
    "\n",
    "for rect in rects1:\n",
    "    height = rect.get_height()\n",
    "    plt.annotate(str(round(height,2))+'%',\n",
    "                xy=(rect.get_x() + rect.get_width() / 2, height),\n",
    "                xytext=(0, 3), textcoords=\"offset points\", size=10,\n",
    "                ha='center', va='bottom')\n",
    "for rect in rects2:\n",
    "    height = rect.get_height()\n",
    "    plt.annotate(str(round(height,2))+'%',\n",
    "                xy=(rect.get_x() + rect.get_width() / 2, height),\n",
    "                xytext=(0, 3), textcoords=\"offset points\", size=10,\n",
    "                ha='center', va='bottom')\n",
    "\n",
    "plt.show()"
   ]
  },
  {
   "cell_type": "markdown",
   "id": "63ec9ed8",
   "metadata": {},
   "source": [
    "### 번외(연도별 건물유형의 평균 가격 변동 그래프)"
   ]
  },
  {
   "cell_type": "code",
   "execution_count": 104,
   "id": "88e9fc1d",
   "metadata": {
    "scrolled": true
   },
   "outputs": [
    {
     "data": {
      "image/png": "[encoded data removed]",
      "text/plain": [
       "<Figure size 1000x300 with 1 Axes>"
      ]
     },
     "metadata": {},
     "output_type": "display_data"
    }
   ],
   "source": [
    "type_price = price.groupby(['신고년도','건물주용도'])['물건금액'].mean().reset_index()\n",
    "type_price['물건금액'] = type_price['물건금액']/10000000\n",
    "colors = ['#ff9999', '#ffc000', '#8fd9b6', '#d395d0']\n",
    "pivot = type_price.pivot_table(index='신고년도', columns='건물주용도')\n",
    "pivot.plot.bar(figsize=(10,3), rot=False)\n",
    "plt.ylabel('평균금액(천만원)')\n",
    "plt.legend(['단독주택','아파트','연립주택','오피스텔'], prop={'size':10})\n",
    "plt.show()"
   ]
  },
  {
   "cell_type": "markdown",
   "id": "598f8cdd",
   "metadata": {},
   "source": [
    "# 머신러닝"
   ]
  },
  {
   "cell_type": "markdown",
   "id": "cd859e4b",
   "metadata": {},
   "source": [
    "### 데이터 변환(명목형 -> 숫자형)"
   ]
  },
  {
   "cell_type": "code",
   "execution_count": 105,
   "id": "74dfef03",
   "metadata": {
    "scrolled": true
   },
   "outputs": [
    {
     "name": "stdout",
     "output_type": "stream",
     "text": [
      "<class 'pandas.core.frame.DataFrame'>\n",
      "Int64Index: 2261710 entries, 0 to 176000\n",
      "Data columns (total 8 columns):\n",
      " #   Column  Dtype  \n",
      "---  ------  -----  \n",
      " 0   신고년도    int64  \n",
      " 1   자치구명    int32  \n",
      " 2   법정동명    int32  \n",
      " 3   건물면적    float64\n",
      " 4   층정보     float64\n",
      " 5   건물주용도   int32  \n",
      " 6   건축년도    float64\n",
      " 7   물건금액    int64  \n",
      "dtypes: float64(3), int32(3), int64(2)\n",
      "memory usage: 129.4 MB\n"
     ]
    }
   ],
   "source": [
    "def racoding_encoder(table):\n",
    "    from sklearn.preprocessing import LabelEncoder\n",
    "    import pandas as pd\n",
    "    table2 = table.copy()\n",
    "    try:\n",
    "        for i in table2.columns[table2.dtypes=='object']:\n",
    "            encoder = LabelEncoder()\n",
    "            encoder.fit(table2[i])\n",
    "            table2[i] = encoder.transform(table2[i])\n",
    "        return table2\n",
    "    except:\n",
    "        encoder = LabelEncoder()\n",
    "        encoder.fit(table)\n",
    "        table2 = encoder.transform(table)\n",
    "    return pd.DataFrame({table.name:table2})\n",
    "price2 = racoding_encoder(price)\n",
    "price2.info()"
   ]
  },
  {
   "cell_type": "markdown",
   "id": "9a617d9e",
   "metadata": {},
   "source": [
    "### 컬럼별 상관관계 확인"
   ]
  },
  {
   "cell_type": "code",
   "execution_count": 106,
   "id": "ced87669",
   "metadata": {
    "scrolled": true
   },
   "outputs": [
    {
     "data": {
      "text/html": [
       "<div>\n",
       "<style scoped>\n",
       "    .dataframe tbody tr th:only-of-type {\n",
       "        vertical-align: middle;\n",
       "    }\n",
       "\n",
       "    .dataframe tbody tr th {\n",
       "        vertical-align: top;\n",
       "    }\n",
       "\n",
       "    .dataframe thead th {\n",
       "        text-align: right;\n",
       "    }\n",
       "</style>\n",
       "<table border=\"1\" class=\"dataframe\">\n",
       "  <thead>\n",
       "    <tr style=\"text-align: right;\">\n",
       "      <th></th>\n",
       "      <th>신고년도</th>\n",
       "      <th>자치구명</th>\n",
       "      <th>법정동명</th>\n",
       "      <th>건물면적</th>\n",
       "      <th>층정보</th>\n",
       "      <th>건물주용도</th>\n",
       "      <th>건축년도</th>\n",
       "      <th>물건금액</th>\n",
       "    </tr>\n",
       "  </thead>\n",
       "  <tbody>\n",
       "    <tr>\n",
       "      <th>신고년도</th>\n",
       "      <td>1.000000</td>\n",
       "      <td>0.008877</td>\n",
       "      <td>-0.001457</td>\n",
       "      <td>0.017429</td>\n",
       "      <td>0.065801</td>\n",
       "      <td>-0.016801</td>\n",
       "      <td>-0.020402</td>\n",
       "      <td>0.255714</td>\n",
       "    </tr>\n",
       "    <tr>\n",
       "      <th>자치구명</th>\n",
       "      <td>0.008877</td>\n",
       "      <td>1.000000</td>\n",
       "      <td>0.066388</td>\n",
       "      <td>0.016661</td>\n",
       "      <td>-0.012447</td>\n",
       "      <td>-0.010344</td>\n",
       "      <td>-0.041855</td>\n",
       "      <td>0.000108</td>\n",
       "    </tr>\n",
       "    <tr>\n",
       "      <th>법정동명</th>\n",
       "      <td>-0.001457</td>\n",
       "      <td>0.066388</td>\n",
       "      <td>1.000000</td>\n",
       "      <td>0.010837</td>\n",
       "      <td>-0.022790</td>\n",
       "      <td>-0.001902</td>\n",
       "      <td>0.009300</td>\n",
       "      <td>-0.007823</td>\n",
       "    </tr>\n",
       "    <tr>\n",
       "      <th>건물면적</th>\n",
       "      <td>0.017429</td>\n",
       "      <td>0.016661</td>\n",
       "      <td>0.010837</td>\n",
       "      <td>1.000000</td>\n",
       "      <td>-0.028237</td>\n",
       "      <td>-0.491298</td>\n",
       "      <td>-0.032461</td>\n",
       "      <td>0.595386</td>\n",
       "    </tr>\n",
       "    <tr>\n",
       "      <th>층정보</th>\n",
       "      <td>0.065801</td>\n",
       "      <td>-0.012447</td>\n",
       "      <td>-0.022790</td>\n",
       "      <td>-0.028237</td>\n",
       "      <td>1.000000</td>\n",
       "      <td>-0.074628</td>\n",
       "      <td>-0.115356</td>\n",
       "      <td>0.188887</td>\n",
       "    </tr>\n",
       "    <tr>\n",
       "      <th>건물주용도</th>\n",
       "      <td>-0.016801</td>\n",
       "      <td>-0.010344</td>\n",
       "      <td>-0.001902</td>\n",
       "      <td>-0.491298</td>\n",
       "      <td>-0.074628</td>\n",
       "      <td>1.000000</td>\n",
       "      <td>0.101281</td>\n",
       "      <td>-0.387153</td>\n",
       "    </tr>\n",
       "    <tr>\n",
       "      <th>건축년도</th>\n",
       "      <td>-0.020402</td>\n",
       "      <td>-0.041855</td>\n",
       "      <td>0.009300</td>\n",
       "      <td>-0.032461</td>\n",
       "      <td>-0.115356</td>\n",
       "      <td>0.101281</td>\n",
       "      <td>1.000000</td>\n",
       "      <td>-0.090889</td>\n",
       "    </tr>\n",
       "    <tr>\n",
       "      <th>물건금액</th>\n",
       "      <td>0.255714</td>\n",
       "      <td>0.000108</td>\n",
       "      <td>-0.007823</td>\n",
       "      <td>0.595386</td>\n",
       "      <td>0.188887</td>\n",
       "      <td>-0.387153</td>\n",
       "      <td>-0.090889</td>\n",
       "      <td>1.000000</td>\n",
       "    </tr>\n",
       "  </tbody>\n",
       "</table>\n",
       "</div>"
      ],
      "text/plain": [
       "           신고년도      자치구명      법정동명      건물면적       층정보     건물주용도      건축년도  \\\n",
       "신고년도   1.000000  0.008877 -0.001457  0.017429  0.065801 -0.016801 -0.020402   \n",
       "자치구명   0.008877  1.000000  0.066388  0.016661 -0.012447 -0.010344 -0.041855   \n",
       "법정동명  -0.001457  0.066388  1.000000  0.010837 -0.022790 -0.001902  0.009300   \n",
       "건물면적   0.017429  0.016661  0.010837  1.000000 -0.028237 -0.491298 -0.032461   \n",
       "층정보    0.065801 -0.012447 -0.022790 -0.028237  1.000000 -0.074628 -0.115356   \n",
       "건물주용도 -0.016801 -0.010344 -0.001902 -0.491298 -0.074628  1.000000  0.101281   \n",
       "건축년도  -0.020402 -0.041855  0.009300 -0.032461 -0.115356  0.101281  1.000000   \n",
       "물건금액   0.255714  0.000108 -0.007823  0.595386  0.188887 -0.387153 -0.090889   \n",
       "\n",
       "           물건금액  \n",
       "신고년도   0.255714  \n",
       "자치구명   0.000108  \n",
       "법정동명  -0.007823  \n",
       "건물면적   0.595386  \n",
       "층정보    0.188887  \n",
       "건물주용도 -0.387153  \n",
       "건축년도  -0.090889  \n",
       "물건금액   1.000000  "
      ]
     },
     "execution_count": 106,
     "metadata": {},
     "output_type": "execute_result"
    }
   ],
   "source": [
    "price2.corr('pearson')"
   ]
  },
  {
   "cell_type": "code",
   "execution_count": 107,
   "id": "309b6cfd",
   "metadata": {
    "scrolled": false
   },
   "outputs": [
    {
     "data": {
      "text/plain": [
       "<AxesSubplot:>"
      ]
     },
     "execution_count": 107,
     "metadata": {},
     "output_type": "execute_result"
    },
    {
     "data": {
      "image/png": "[encoded data removed]",
      "text/plain": [
       "<Figure size 500x500 with 2 Axes>"
      ]
     },
     "metadata": {},
     "output_type": "display_data"
    }
   ],
   "source": [
    "import seaborn as sns\n",
    "plt.figure(figsize=(5,5))\n",
    "sns.heatmap(data = price2.corr('pearson'), annot=True, fmt = '.2f', linewidths=.5, cmap='Blues')"
   ]
  },
  {
   "cell_type": "markdown",
   "id": "4c41deb0",
   "metadata": {},
   "source": [
    "### 데이터 분리"
   ]
  },
  {
   "cell_type": "code",
   "execution_count": 108,
   "id": "71003134",
   "metadata": {},
   "outputs": [],
   "source": [
    "x = price2[price2['신고년도']!=2020]\n",
    "y = price2[price2['신고년도']==2020]"
   ]
  },
  {
   "cell_type": "markdown",
   "id": "64af965d",
   "metadata": {},
   "source": [
    "### 모델 선택, 생성, 예측, 결과"
   ]
  },
  {
   "cell_type": "code",
   "execution_count": 109,
   "id": "b81eb2cb",
   "metadata": {},
   "outputs": [
    {
     "name": "stdout",
     "output_type": "stream",
     "text": [
      "러닝타임:0:00:00 / MAE:259528853.19 / 상관계수:0.7\n"
     ]
    }
   ],
   "source": [
    "from sklearn.linear_model import LinearRegression\n",
    "import time\n",
    "import datetime\n",
    "import numpy as np\n",
    "\n",
    "def mae(x, y):\n",
    "        return np.mean(abs(x-y))\n",
    "\n",
    "start = time.time()\n",
    "model = LinearRegression()\n",
    "model.fit(x.iloc[:,:-1], x['물건금액'])\n",
    "result = model.predict(y.iloc[:,:-1])\n",
    "sec = time.time()-start\n",
    "times = str(datetime.timedelta(seconds=sec)).split(\".\")\n",
    "times = times[0]\n",
    "mae_r = round(mae(result, y['물건금액']),2)\n",
    "cor = round(np.corrcoef(result, y['물건금액'])[0][1],2)\n",
    "\n",
    "print('러닝타임:{} / MAE:{} / 상관계수:{}'.format(times,mae_r,cor))"
   ]
  },
  {
   "cell_type": "markdown",
   "id": "02cb60b9",
   "metadata": {},
   "source": [
    "### 모델 성능 개선"
   ]
  },
  {
   "cell_type": "code",
   "execution_count": 110,
   "id": "aa77609d",
   "metadata": {},
   "outputs": [
    {
     "name": "stdout",
     "output_type": "stream",
     "text": [
      "시작시간:17:24:52\n",
      "LinearRegression / 러닝타임:0:00:00 / MAE:259528853.19 / 상관계수:0.7\n",
      "KNeighborsRegressor / 러닝타임:0:00:37 / MAE:141233305.57 / 상관계수:0.9\n",
      "DecisionTreeRegressor / 러닝타임:0:00:11 / MAE:128639586.03 / 상관계수:0.89\n",
      "Lasso / 러닝타임:0:00:01 / MAE:259528853.59 / 상관계수:0.7\n",
      "RandomForestRegressor / 러닝타임:0:13:25 / MAE:114016876.71 / 상관계수:0.93\n",
      "종료시간:17:39:07\n"
     ]
    }
   ],
   "source": [
    "def racoding_regressor_selector(x_train, y_train, x_test, y_test):\n",
    "    from sklearn.linear_model import LinearRegression\n",
    "    from sklearn.neighbors import KNeighborsRegressor\n",
    "    from sklearn.tree import DecisionTreeRegressor\n",
    "    from sklearn.linear_model import Lasso\n",
    "    from sklearn.ensemble import RandomForestRegressor\n",
    "    import time\n",
    "    import datetime\n",
    "    import numpy as np\n",
    "    print('시작시간:{}'.format(time.strftime('%H:%M:%S')))\n",
    "    def mae(x, y):\n",
    "        return np.mean(abs(x-y))\n",
    "\n",
    "    def learning(name, model):\n",
    "        start = time.time()\n",
    "        model.fit(x_train, y_train)\n",
    "        pred = model.predict(x_test)\n",
    "        sec = time.time()-start\n",
    "        times = str(datetime.timedelta(seconds=sec)).split(\".\")\n",
    "        times = times[0]\n",
    "        mae_r = round(mae(pred, y_test),2)\n",
    "        cor = round(np.corrcoef(pred, y_test)[0][1],2)\n",
    "        print('{} / 러닝타임:{} / MAE:{} / 상관계수:{}'.format(name,times,mae_r,cor))\n",
    " \n",
    "    lr = LinearRegression()\n",
    "    knn = KNeighborsRegressor()\n",
    "    dr = DecisionTreeRegressor()\n",
    "    ls = Lasso()\n",
    "    rf = RandomForestRegressor()\n",
    "    model = ['LinearRegression','KNeighborsRegressor','DecisionTreeRegressor',\n",
    "            'Lasso','RandomForestRegressor']\n",
    "    models = [lr, knn, dr, ls, rf]\n",
    "    for i, j in zip(model, models):\n",
    "        learning(i, j)\n",
    "    print('종료시간:{}'.format(time.strftime('%H:%M:%S')))\n",
    "\n",
    "racoding_regressor_selector(x.iloc[:,:-1], x['물건금액'], y.iloc[:,:-1], y['물건금액'])"
   ]
  },
  {
   "cell_type": "code",
   "execution_count": 111,
   "id": "bf4f9bfe",
   "metadata": {
    "scrolled": false
   },
   "outputs": [],
   "source": [
    "# #하이퍼 파라미터 찾기\n",
    "# import time\n",
    "# import datetime\n",
    "# from sklearn.ensemble import RandomForestRegressor\n",
    "# print(time.strftime('%H:%M:%S'))\n",
    "# def mae(x, y):\n",
    "#     return np.mean(abs(x-y))\n",
    "# for i in range(100, 600, 100):\n",
    "#     start = time.time()\n",
    "#     model = RandomForestRegressor(n_estimators=i)\n",
    "#     model.fit(x.iloc[:,:-1], x['물건금액'])\n",
    "#     result = model.predict(y.iloc[:,:-1])\n",
    "#     sec = time.time()-start\n",
    "#     times = str(datetime.timedelta(seconds=sec)).split(\".\")\n",
    "#     times = times[0]\n",
    "#     mae_r = round(mae(result, y['물건금액']),2)\n",
    "#     cor = round(np.corrcoef(result, y['물건금액'])[0][1],2)\n",
    "#     print('파라미터:{} / MAE:{} / 상관계수:{} / 시간:{}'.format(i, mae_r, cor, times))"
   ]
  },
  {
   "cell_type": "markdown",
   "id": "d6ede641",
   "metadata": {},
   "source": [
    "### 실전 테스트 자료 생성"
   ]
  },
  {
   "cell_type": "code",
   "execution_count": 112,
   "id": "a6cb8490",
   "metadata": {
    "scrolled": true
   },
   "outputs": [
    {
     "data": {
      "text/html": [
       "<div>\n",
       "<style scoped>\n",
       "    .dataframe tbody tr th:only-of-type {\n",
       "        vertical-align: middle;\n",
       "    }\n",
       "\n",
       "    .dataframe tbody tr th {\n",
       "        vertical-align: top;\n",
       "    }\n",
       "\n",
       "    .dataframe thead th {\n",
       "        text-align: right;\n",
       "    }\n",
       "</style>\n",
       "<table border=\"1\" class=\"dataframe\">\n",
       "  <thead>\n",
       "    <tr style=\"text-align: right;\">\n",
       "      <th></th>\n",
       "      <th>자치구명1</th>\n",
       "      <th>자치구명2</th>\n",
       "    </tr>\n",
       "  </thead>\n",
       "  <tbody>\n",
       "    <tr>\n",
       "      <th>132126</th>\n",
       "      <td>서초구</td>\n",
       "      <td>14</td>\n",
       "    </tr>\n",
       "    <tr>\n",
       "      <th>132128</th>\n",
       "      <td>서초구</td>\n",
       "      <td>14</td>\n",
       "    </tr>\n",
       "    <tr>\n",
       "      <th>132130</th>\n",
       "      <td>서초구</td>\n",
       "      <td>14</td>\n",
       "    </tr>\n",
       "    <tr>\n",
       "      <th>132132</th>\n",
       "      <td>서초구</td>\n",
       "      <td>14</td>\n",
       "    </tr>\n",
       "    <tr>\n",
       "      <th>132134</th>\n",
       "      <td>서초구</td>\n",
       "      <td>14</td>\n",
       "    </tr>\n",
       "    <tr>\n",
       "      <th>...</th>\n",
       "      <td>...</td>\n",
       "      <td>...</td>\n",
       "    </tr>\n",
       "    <tr>\n",
       "      <th>67541</th>\n",
       "      <td>서초구</td>\n",
       "      <td>14</td>\n",
       "    </tr>\n",
       "    <tr>\n",
       "      <th>67542</th>\n",
       "      <td>서초구</td>\n",
       "      <td>14</td>\n",
       "    </tr>\n",
       "    <tr>\n",
       "      <th>67543</th>\n",
       "      <td>서초구</td>\n",
       "      <td>14</td>\n",
       "    </tr>\n",
       "    <tr>\n",
       "      <th>69036</th>\n",
       "      <td>서초구</td>\n",
       "      <td>14</td>\n",
       "    </tr>\n",
       "    <tr>\n",
       "      <th>164859</th>\n",
       "      <td>서초구</td>\n",
       "      <td>14</td>\n",
       "    </tr>\n",
       "  </tbody>\n",
       "</table>\n",
       "<p>89714 rows × 2 columns</p>\n",
       "</div>"
      ],
      "text/plain": [
       "       자치구명1  자치구명2\n",
       "132126   서초구     14\n",
       "132128   서초구     14\n",
       "132130   서초구     14\n",
       "132132   서초구     14\n",
       "132134   서초구     14\n",
       "...      ...    ...\n",
       "67541    서초구     14\n",
       "67542    서초구     14\n",
       "67543    서초구     14\n",
       "69036    서초구     14\n",
       "164859   서초구     14\n",
       "\n",
       "[89714 rows x 2 columns]"
      ]
     },
     "execution_count": 112,
     "metadata": {},
     "output_type": "execute_result"
    }
   ],
   "source": [
    "goo = pd.concat([price.자치구명, price2.자치구명], axis=1)\n",
    "goo.columns = ['자치구명1','자치구명2']\n",
    "goo[goo['자치구명1']=='서초구'] #강남구:0, 용산구:20, 서초구:14"
   ]
  },
  {
   "cell_type": "code",
   "execution_count": 113,
   "id": "b93ff302",
   "metadata": {
    "scrolled": true
   },
   "outputs": [
    {
     "data": {
      "text/html": [
       "<div>\n",
       "<style scoped>\n",
       "    .dataframe tbody tr th:only-of-type {\n",
       "        vertical-align: middle;\n",
       "    }\n",
       "\n",
       "    .dataframe tbody tr th {\n",
       "        vertical-align: top;\n",
       "    }\n",
       "\n",
       "    .dataframe thead th {\n",
       "        text-align: right;\n",
       "    }\n",
       "</style>\n",
       "<table border=\"1\" class=\"dataframe\">\n",
       "  <thead>\n",
       "    <tr style=\"text-align: right;\">\n",
       "      <th></th>\n",
       "      <th>법정동명1</th>\n",
       "      <th>법정동명2</th>\n",
       "    </tr>\n",
       "  </thead>\n",
       "  <tbody>\n",
       "    <tr>\n",
       "      <th>0</th>\n",
       "      <td>신정동</td>\n",
       "      <td>238</td>\n",
       "    </tr>\n",
       "    <tr>\n",
       "      <th>1</th>\n",
       "      <td>천호동</td>\n",
       "      <td>371</td>\n",
       "    </tr>\n",
       "    <tr>\n",
       "      <th>2</th>\n",
       "      <td>목동</td>\n",
       "      <td>129</td>\n",
       "    </tr>\n",
       "    <tr>\n",
       "      <th>3</th>\n",
       "      <td>길동</td>\n",
       "      <td>42</td>\n",
       "    </tr>\n",
       "    <tr>\n",
       "      <th>4</th>\n",
       "      <td>신정동</td>\n",
       "      <td>238</td>\n",
       "    </tr>\n",
       "  </tbody>\n",
       "</table>\n",
       "</div>"
      ],
      "text/plain": [
       "  법정동명1  법정동명2\n",
       "0   신정동    238\n",
       "1   천호동    371\n",
       "2    목동    129\n",
       "3    길동     42\n",
       "4   신정동    238"
      ]
     },
     "execution_count": 113,
     "metadata": {},
     "output_type": "execute_result"
    }
   ],
   "source": [
    "dong = pd.concat([price.법정동명, price2.법정동명], axis=1)\n",
    "dong.columns = ['법정동명1','법정동명2']\n",
    "dong.head()"
   ]
  },
  {
   "cell_type": "code",
   "execution_count": 114,
   "id": "ebf4c963",
   "metadata": {},
   "outputs": [
    {
     "data": {
      "text/html": [
       "<div>\n",
       "<style scoped>\n",
       "    .dataframe tbody tr th:only-of-type {\n",
       "        vertical-align: middle;\n",
       "    }\n",
       "\n",
       "    .dataframe tbody tr th {\n",
       "        vertical-align: top;\n",
       "    }\n",
       "\n",
       "    .dataframe thead th {\n",
       "        text-align: right;\n",
       "    }\n",
       "</style>\n",
       "<table border=\"1\" class=\"dataframe\">\n",
       "  <thead>\n",
       "    <tr style=\"text-align: right;\">\n",
       "      <th></th>\n",
       "      <th>건물주용도1</th>\n",
       "      <th>건물주용도2</th>\n",
       "    </tr>\n",
       "  </thead>\n",
       "  <tbody>\n",
       "    <tr>\n",
       "      <th>0</th>\n",
       "      <td>아파트</td>\n",
       "      <td>1</td>\n",
       "    </tr>\n",
       "    <tr>\n",
       "      <th>1</th>\n",
       "      <td>연립주택</td>\n",
       "      <td>2</td>\n",
       "    </tr>\n",
       "    <tr>\n",
       "      <th>2</th>\n",
       "      <td>아파트</td>\n",
       "      <td>1</td>\n",
       "    </tr>\n",
       "    <tr>\n",
       "      <th>3</th>\n",
       "      <td>아파트</td>\n",
       "      <td>1</td>\n",
       "    </tr>\n",
       "    <tr>\n",
       "      <th>4</th>\n",
       "      <td>아파트</td>\n",
       "      <td>1</td>\n",
       "    </tr>\n",
       "  </tbody>\n",
       "</table>\n",
       "</div>"
      ],
      "text/plain": [
       "  건물주용도1  건물주용도2\n",
       "0    아파트       1\n",
       "1   연립주택       2\n",
       "2    아파트       1\n",
       "3    아파트       1\n",
       "4    아파트       1"
      ]
     },
     "execution_count": 114,
     "metadata": {},
     "output_type": "execute_result"
    }
   ],
   "source": [
    "gun = pd.concat([price.건물주용도, price2.건물주용도], axis=1)\n",
    "gun.columns = ['건물주용도1','건물주용도2']\n",
    "gun.head()"
   ]
  },
  {
   "cell_type": "code",
   "execution_count": 115,
   "id": "f07f769c",
   "metadata": {},
   "outputs": [
    {
     "data": {
      "text/html": [
       "<div>\n",
       "<style scoped>\n",
       "    .dataframe tbody tr th:only-of-type {\n",
       "        vertical-align: middle;\n",
       "    }\n",
       "\n",
       "    .dataframe tbody tr th {\n",
       "        vertical-align: top;\n",
       "    }\n",
       "\n",
       "    .dataframe thead th {\n",
       "        text-align: right;\n",
       "    }\n",
       "</style>\n",
       "<table border=\"1\" class=\"dataframe\">\n",
       "  <thead>\n",
       "    <tr style=\"text-align: right;\">\n",
       "      <th></th>\n",
       "      <th>신고년도</th>\n",
       "      <th>자치구명</th>\n",
       "      <th>법정동명</th>\n",
       "      <th>건물면적</th>\n",
       "      <th>층정보</th>\n",
       "      <th>건물주용도</th>\n",
       "      <th>건축년도</th>\n",
       "      <th>물건금액</th>\n",
       "    </tr>\n",
       "  </thead>\n",
       "  <tbody>\n",
       "    <tr>\n",
       "      <th>0</th>\n",
       "      <td>2021</td>\n",
       "      <td>20</td>\n",
       "      <td>297</td>\n",
       "      <td>72.66</td>\n",
       "      <td>5</td>\n",
       "      <td>1</td>\n",
       "      <td>1982</td>\n",
       "      <td>720000000</td>\n",
       "    </tr>\n",
       "    <tr>\n",
       "      <th>1</th>\n",
       "      <td>2021</td>\n",
       "      <td>20</td>\n",
       "      <td>221</td>\n",
       "      <td>48.64</td>\n",
       "      <td>4</td>\n",
       "      <td>2</td>\n",
       "      <td>2007</td>\n",
       "      <td>485000000</td>\n",
       "    </tr>\n",
       "    <tr>\n",
       "      <th>2</th>\n",
       "      <td>2021</td>\n",
       "      <td>2</td>\n",
       "      <td>151</td>\n",
       "      <td>149.76</td>\n",
       "      <td>1</td>\n",
       "      <td>0</td>\n",
       "      <td>1993</td>\n",
       "      <td>470000000</td>\n",
       "    </tr>\n",
       "    <tr>\n",
       "      <th>3</th>\n",
       "      <td>2021</td>\n",
       "      <td>2</td>\n",
       "      <td>215</td>\n",
       "      <td>25.50</td>\n",
       "      <td>2</td>\n",
       "      <td>3</td>\n",
       "      <td>2010</td>\n",
       "      <td>83000000</td>\n",
       "    </tr>\n",
       "    <tr>\n",
       "      <th>4</th>\n",
       "      <td>2021</td>\n",
       "      <td>14</td>\n",
       "      <td>198</td>\n",
       "      <td>23.88</td>\n",
       "      <td>7</td>\n",
       "      <td>1</td>\n",
       "      <td>2019</td>\n",
       "      <td>400000000</td>\n",
       "    </tr>\n",
       "    <tr>\n",
       "      <th>5</th>\n",
       "      <td>2021</td>\n",
       "      <td>14</td>\n",
       "      <td>335</td>\n",
       "      <td>84.53</td>\n",
       "      <td>8</td>\n",
       "      <td>1</td>\n",
       "      <td>1987</td>\n",
       "      <td>2000000000</td>\n",
       "    </tr>\n",
       "    <tr>\n",
       "      <th>6</th>\n",
       "      <td>2021</td>\n",
       "      <td>4</td>\n",
       "      <td>229</td>\n",
       "      <td>50.02</td>\n",
       "      <td>3</td>\n",
       "      <td>2</td>\n",
       "      <td>1991</td>\n",
       "      <td>252000000</td>\n",
       "    </tr>\n",
       "    <tr>\n",
       "      <th>7</th>\n",
       "      <td>2021</td>\n",
       "      <td>4</td>\n",
       "      <td>53</td>\n",
       "      <td>418.26</td>\n",
       "      <td>1</td>\n",
       "      <td>0</td>\n",
       "      <td>1996</td>\n",
       "      <td>2030000000</td>\n",
       "    </tr>\n",
       "    <tr>\n",
       "      <th>8</th>\n",
       "      <td>2021</td>\n",
       "      <td>1</td>\n",
       "      <td>7</td>\n",
       "      <td>59.51</td>\n",
       "      <td>6</td>\n",
       "      <td>3</td>\n",
       "      <td>2019</td>\n",
       "      <td>480000000</td>\n",
       "    </tr>\n",
       "    <tr>\n",
       "      <th>9</th>\n",
       "      <td>2021</td>\n",
       "      <td>1</td>\n",
       "      <td>111</td>\n",
       "      <td>24.95</td>\n",
       "      <td>5</td>\n",
       "      <td>3</td>\n",
       "      <td>2014</td>\n",
       "      <td>160000000</td>\n",
       "    </tr>\n",
       "  </tbody>\n",
       "</table>\n",
       "</div>"
      ],
      "text/plain": [
       "   신고년도  자치구명  법정동명    건물면적  층정보  건물주용도  건축년도        물건금액\n",
       "0  2021    20   297   72.66    5      1  1982   720000000\n",
       "1  2021    20   221   48.64    4      2  2007   485000000\n",
       "2  2021     2   151  149.76    1      0  1993   470000000\n",
       "3  2021     2   215   25.50    2      3  2010    83000000\n",
       "4  2021    14   198   23.88    7      1  2019   400000000\n",
       "5  2021    14   335   84.53    8      1  1987  2000000000\n",
       "6  2021     4   229   50.02    3      2  1991   252000000\n",
       "7  2021     4    53  418.26    1      0  1996  2030000000\n",
       "8  2021     1     7   59.51    6      3  2019   480000000\n",
       "9  2021     1   111   24.95    5      3  2014   160000000"
      ]
     },
     "execution_count": 115,
     "metadata": {},
     "output_type": "execute_result"
    }
   ],
   "source": [
    "#국토교통부 실거래가 공개시스템 10건\n",
    "test = pd.DataFrame({\n",
    "    '신고년도':[2021,2021,2021,2021,2021, 2021, 2021, 2021, 2021, 2021],\n",
    "    '자치구명':[20, 20, 2, 2, 14, 14, 4, 4, 1, 1],\n",
    "    '법정동명':[297, 221, 151, 215, 198, 335, 229, 53, 7, 111],\n",
    "    '건물면적':[72.66, 48.64, 149.76, 25.5, 23.88, 84.53, 50.02, 418.26, 59.51, 24.95],\n",
    "    '층정보':[5, 4, 1, 2, 7, 8, 3, 1, 6, 5],\n",
    "    '건물주용도':[1, 2, 0, 3, 1, 1, 2, 0, 3, 3],\n",
    "    '건축년도':[1982, 2007, 1993, 2010, 2019, 1987, 1991, 1996, 2019, 2014],\n",
    "    '물건금액':[720000000,485000000,470000000,83000000,400000000,2000000000,252000000,2030000000,480000000,160000000]\n",
    "})\n",
    "test"
   ]
  },
  {
   "cell_type": "code",
   "execution_count": 116,
   "id": "4872724f",
   "metadata": {},
   "outputs": [
    {
     "data": {
      "text/html": [
       "<div>\n",
       "<style scoped>\n",
       "    .dataframe tbody tr th:only-of-type {\n",
       "        vertical-align: middle;\n",
       "    }\n",
       "\n",
       "    .dataframe tbody tr th {\n",
       "        vertical-align: top;\n",
       "    }\n",
       "\n",
       "    .dataframe thead th {\n",
       "        text-align: right;\n",
       "    }\n",
       "</style>\n",
       "<table border=\"1\" class=\"dataframe\">\n",
       "  <thead>\n",
       "    <tr style=\"text-align: right;\">\n",
       "      <th></th>\n",
       "      <th>자치구명1</th>\n",
       "      <th>자치구명2</th>\n",
       "    </tr>\n",
       "  </thead>\n",
       "  <tbody>\n",
       "    <tr>\n",
       "      <th>1</th>\n",
       "      <td>강동구</td>\n",
       "      <td>1</td>\n",
       "    </tr>\n",
       "    <tr>\n",
       "      <th>3</th>\n",
       "      <td>강동구</td>\n",
       "      <td>1</td>\n",
       "    </tr>\n",
       "  </tbody>\n",
       "</table>\n",
       "</div>"
      ],
      "text/plain": [
       "  자치구명1  자치구명2\n",
       "1   강동구      1\n",
       "3   강동구      1"
      ]
     },
     "execution_count": 116,
     "metadata": {},
     "output_type": "execute_result"
    }
   ],
   "source": [
    "goo[goo.자치구명1=='강동구'].head(2)"
   ]
  },
  {
   "cell_type": "code",
   "execution_count": 117,
   "id": "050b1a15",
   "metadata": {
    "scrolled": true
   },
   "outputs": [
    {
     "data": {
      "text/html": [
       "<div>\n",
       "<style scoped>\n",
       "    .dataframe tbody tr th:only-of-type {\n",
       "        vertical-align: middle;\n",
       "    }\n",
       "\n",
       "    .dataframe tbody tr th {\n",
       "        vertical-align: top;\n",
       "    }\n",
       "\n",
       "    .dataframe thead th {\n",
       "        text-align: right;\n",
       "    }\n",
       "</style>\n",
       "<table border=\"1\" class=\"dataframe\">\n",
       "  <thead>\n",
       "    <tr style=\"text-align: right;\">\n",
       "      <th></th>\n",
       "      <th>법정동명1</th>\n",
       "      <th>법정동명2</th>\n",
       "    </tr>\n",
       "  </thead>\n",
       "  <tbody>\n",
       "    <tr>\n",
       "      <th>13</th>\n",
       "      <td>둔촌동</td>\n",
       "      <td>111</td>\n",
       "    </tr>\n",
       "    <tr>\n",
       "      <th>35</th>\n",
       "      <td>둔촌동</td>\n",
       "      <td>111</td>\n",
       "    </tr>\n",
       "  </tbody>\n",
       "</table>\n",
       "</div>"
      ],
      "text/plain": [
       "   법정동명1  법정동명2\n",
       "13   둔촌동    111\n",
       "35   둔촌동    111"
      ]
     },
     "execution_count": 117,
     "metadata": {},
     "output_type": "execute_result"
    }
   ],
   "source": [
    "dong[dong.법정동명1=='둔촌동'].head(2)"
   ]
  },
  {
   "cell_type": "code",
   "execution_count": 118,
   "id": "0844d0a9",
   "metadata": {
    "scrolled": false
   },
   "outputs": [
    {
     "data": {
      "text/html": [
       "<div>\n",
       "<style scoped>\n",
       "    .dataframe tbody tr th:only-of-type {\n",
       "        vertical-align: middle;\n",
       "    }\n",
       "\n",
       "    .dataframe tbody tr th {\n",
       "        vertical-align: top;\n",
       "    }\n",
       "\n",
       "    .dataframe thead th {\n",
       "        text-align: right;\n",
       "    }\n",
       "</style>\n",
       "<table border=\"1\" class=\"dataframe\">\n",
       "  <thead>\n",
       "    <tr style=\"text-align: right;\">\n",
       "      <th></th>\n",
       "      <th>건물주용도1</th>\n",
       "      <th>건물주용도2</th>\n",
       "    </tr>\n",
       "  </thead>\n",
       "  <tbody>\n",
       "    <tr>\n",
       "      <th>9</th>\n",
       "      <td>오피스텔</td>\n",
       "      <td>3</td>\n",
       "    </tr>\n",
       "    <tr>\n",
       "      <th>11</th>\n",
       "      <td>오피스텔</td>\n",
       "      <td>3</td>\n",
       "    </tr>\n",
       "  </tbody>\n",
       "</table>\n",
       "</div>"
      ],
      "text/plain": [
       "   건물주용도1  건물주용도2\n",
       "9    오피스텔       3\n",
       "11   오피스텔       3"
      ]
     },
     "execution_count": 118,
     "metadata": {},
     "output_type": "execute_result"
    }
   ],
   "source": [
    "gun[gun.건물주용도1=='오피스텔'].head(2)\n",
    "#단독주택0, 아파트1, 연립주택2, 오피스텔3"
   ]
  },
  {
   "cell_type": "markdown",
   "id": "202e878c",
   "metadata": {},
   "source": [
    "### 실전 테스트"
   ]
  },
  {
   "cell_type": "code",
   "execution_count": 119,
   "id": "6f0d527d",
   "metadata": {},
   "outputs": [
    {
     "name": "stdout",
     "output_type": "stream",
     "text": [
      "러닝타임:0:13:40 / MAE:101381569.48 / 상관계수:1.0\n"
     ]
    }
   ],
   "source": [
    "from sklearn.ensemble import RandomForestRegressor\n",
    "import time\n",
    "import datetime\n",
    "import numpy as np\n",
    "\n",
    "def mae(x, y):\n",
    "        return np.mean(abs(x-y))\n",
    "\n",
    "start = time.time()\n",
    "model2 = RandomForestRegressor()\n",
    "model2.fit(price2.iloc[:,:-1], price2['물건금액'])\n",
    "result2 = model2.predict(test.iloc[:,:-1])\n",
    "sec = time.time()-start\n",
    "times = str(datetime.timedelta(seconds=sec)).split(\".\")\n",
    "times = times[0]\n",
    "mae_r = round(mae(result2, test['물건금액']),2)\n",
    "cor = round(np.corrcoef(result2, test['물건금액'])[0][1],2)\n",
    "\n",
    "print('러닝타임:{} / MAE:{} / 상관계수:{}'.format(times,mae_r,cor))"
   ]
  },
  {
   "cell_type": "code",
   "execution_count": 120,
   "id": "b709f573",
   "metadata": {
    "scrolled": true
   },
   "outputs": [
    {
     "data": {
      "text/plain": [
       "0    1.678392e+08\n",
       "1    3.645500e+07\n",
       "2    5.553000e+07\n",
       "3   -2.603538e+07\n",
       "4   -1.512500e+07\n",
       "5    1.844167e+08\n",
       "6   -5.741000e+07\n",
       "7    3.603680e+08\n",
       "8    8.178629e+07\n",
       "9    2.885020e+07\n",
       "Name: 물건금액, dtype: float64"
      ]
     },
     "execution_count": 120,
     "metadata": {},
     "output_type": "execute_result"
    }
   ],
   "source": [
    "test.물건금액 - result2"
   ]
  }
 ],
 "metadata": {
  "kernelspec": {
   "display_name": "Python 3",
   "language": "python",
   "name": "python3"
  },
  "language_info": {
   "codemirror_mode": {
    "name": "ipython",
    "version": 3
   },
   "file_extension": ".py",
   "mimetype": "text/x-python",
   "name": "python",
   "nbconvert_exporter": "python",
   "pygments_lexer": "ipython3",
   "version": "3.8.5"
  }
 },
 "nbformat": 4,
 "nbformat_minor": 5
}
